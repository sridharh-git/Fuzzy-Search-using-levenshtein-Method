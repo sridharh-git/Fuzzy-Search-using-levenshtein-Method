{
 "cells": [
  {
   "cell_type": "code",
   "execution_count": 3,
   "metadata": {
    "collapsed": true
   },
   "outputs": [],
   "source": [
    "from fuzzywuzzy import process\n",
    "import time"
   ]
  },
  {
   "cell_type": "markdown",
   "metadata": {},
   "source": [
    "Function lookupStr takes a semi-colon separated provider row and returns Key to use for dict. \n",
    "Key = first Char Last Name + First Char First Name\n",
    "Ex: 1962405183;FOX;DANIEL;2240 SUTHERLAND AVE;STE 107;KNOXVILLE;TN;379192333;2085R0202X ==> FD"
   ]
  },
  {
   "cell_type": "code",
   "execution_count": 4,
   "metadata": {
    "collapsed": true
   },
   "outputs": [],
   "source": [
    "def lookupStr(line):\n",
    "    splitLine = line.split(\";\")\n",
    "    lastName = splitLine[1][0] if splitLine[1] != '' else ''\n",
    "    firstName = splitLine[2][0] if splitLine[2] != '' else ''\n",
    "    return lastName + firstName"
   ]
  },
  {
   "cell_type": "markdown",
   "metadata": {},
   "source": [
    "Create  dict to store provider data from file. \n",
    "If Key already exists append provider record to existing list else create new one."
   ]
  },
  {
   "cell_type": "code",
   "execution_count": 81,
   "metadata": {
    "collapsed": false,
    "scrolled": true
   },
   "outputs": [],
   "source": [
    "npiLookup = {}\n",
    "\n",
    "#f = open(\"C:\\\\Users\\\\sridharh\\\\Desktop\\\\Temp\\\\NPI_Extract.dat\")\n",
    "f = open(\"NPI_Extract.dat\")\n",
    "lines = f.readlines()\n",
    "\n",
    "for line in lines:\n",
    "    dictLookup = lookupStr(line)\n",
    "    if(dictLookup in npiLookup.keys()):\n",
    "        currList = npiLookup[dictLookup]\n",
    "        currList.append(line)\n",
    "        npiLookup[dictLookup] = currList\n",
    "    else:\n",
    "        npiLookup[dictLookup] = [line]"
   ]
  },
  {
   "cell_type": "markdown",
   "metadata": {},
   "source": [
    "Function getSuggestion takes input string and returns first closest match from the provider records."
   ]
  },
  {
   "cell_type": "code",
   "execution_count": 82,
   "metadata": {
    "collapsed": false
   },
   "outputs": [],
   "source": [
    "def getSuggestion(provString):\n",
    "    lkpStr=lookupStr(provString)\n",
    "    if lkpStr in npiLookup : # if lookup exists\n",
    "        return process.extract(provString, npiLookup[lkpStr], limit=1)[0][0].split(\";\") , len(npiLookup[lkpStr])\n",
    "    \n",
    "    elif len(lkpStr) == 1: # if lookup does not exists and either first name or last name missing\n",
    "        mergList = []\n",
    "        for key in npiLookup:\n",
    "            if((lkpStr) in key): #, search for all keys contains lookup string\n",
    "                for lst in npiLookup[key]:\n",
    "                    mergList.append(lst)\n",
    "        rtrnString = [process.extract(provString, mergList, limit=1)[0][0].split(\";\"), len(mergList)]\n",
    "        mergList=[]\n",
    "        return rtrnString\n",
    "    \n",
    "    else:  # if both first name and last name missing, or lookup value not in key \n",
    "        return [\"Full scan require to find best match!\", 0]"
   ]
  },
  {
   "cell_type": "markdown",
   "metadata": {},
   "source": [
    "Testing...."
   ]
  },
  {
   "cell_type": "code",
   "execution_count": 72,
   "metadata": {
    "collapsed": false
   },
   "outputs": [],
   "source": [
    "choices = [\"1508860545;KOLTIS;GORDON;2234 COLONIAL BLVD;MANAGED CARE DEPT;FORT MYERS;FL;339071412;2085R0001X\",\n",
    "           \";ZOLMAN;MARK;7910 W JEFFERSON BLVD;SUITE 300;FORT WAYNE;IN;468044159;208100000X\",\n",
    "           \"1659375996;CR;WILLIAM;PO BOX 650865;;DALLAS;TX;75265065;207L00000X\",\n",
    "           \"1508545;KOLTIS;GORDON;2234 COLONIAL BLVD;MANAGED CARE DEPARTMENT;FORT MYERS;FL;339071412;2085R0001X\",\n",
    "           \"150886;KOLTIS;;2234 COLONIAL BLVD;MANAGED CARE DEPT;FORT MYERS;FL;339071412;2085R0001X\",\n",
    "           \";;GORDON;2234 COLONIAL ;MANAGED CARE DEPPT;FORT MYERS;FL;339071412;2085R0001X\",\n",
    "           \";KLTIS;GODN;2234 COLONIAL BLVD;;FT MYERS;FL;33907;2085R0001X\",\n",
    "           \";;;2234 COLONIAL BLVD;;FT MYERS;FL;33907;2085R0001X\"\n",
    "          ]\n"
   ]
  },
  {
   "cell_type": "code",
   "execution_count": 83,
   "metadata": {
    "collapsed": false
   },
   "outputs": [
    {
     "name": "stdout",
     "output_type": "stream",
     "text": [
      "\n",
      "\n",
      "['1508860545', 'KOLTIS', 'GORDON', '2234 COLONIAL BLVD', 'MANAGED CARE DEPT', 'FORT MYERS', 'FL', '339071412', '2085R0001X']\n",
      "['1508860545', 'KOLTIS', 'GORDON', '2234 COLONIAL BLVD', 'MANAGED CARE DEPT', 'FORT MYERS', 'FL', '339071412', '2085R0001X\\n']\n",
      "Total Scanned Items : 3,807\n",
      "Execution Time : 0.56 Secs\n",
      "\n",
      "\n",
      "['', 'ZOLMAN', 'MARK', '7910 W JEFFERSON BLVD', 'SUITE 300', 'FORT WAYNE', 'IN', '468044159', '208100000X']\n",
      "['1467455436', 'ZOLMAN', 'MARK', '7910 W JEFFERSON BLVD', 'SUITE 300', 'FORT WAYNE', 'IN', '468044159', '208100000X\\n']\n",
      "Total Scanned Items : 2,675\n",
      "Execution Time : 0.35 Secs\n",
      "\n",
      "\n",
      "['1659375996', 'CR', 'WILLIAM', 'PO BOX 650865', '', 'DALLAS', 'TX', '75265065', '207L00000X']\n",
      "['1659375996', 'CONNER', 'WILLIAM', 'PO BOX 650865', '', 'DALLAS', 'TX', '752650865', '207L00000X\\n']\n",
      "Total Scanned Items : 3,904\n",
      "Execution Time : 0.5 Secs\n",
      "\n",
      "\n",
      "['1508545', 'KOLTIS', 'GORDON', '2234 COLONIAL BLVD', 'MANAGED CARE DEPARTMENT', 'FORT MYERS', 'FL', '339071412', '2085R0001X']\n",
      "['1508860545', 'KOLTIS', 'GORDON', '2234 COLONIAL BLVD', 'MANAGED CARE DEPT', 'FORT MYERS', 'FL', '339071412', '2085R0001X\\n']\n",
      "Total Scanned Items : 3,807\n",
      "Execution Time : 0.59 Secs\n",
      "\n",
      "\n",
      "['150886', 'KOLTIS', '', '2234 COLONIAL BLVD', 'MANAGED CARE DEPT', 'FORT MYERS', 'FL', '339071412', '2085R0001X']\n",
      "['1508860545', 'KOLTIS', 'GORDON', '2234 COLONIAL BLVD', 'MANAGED CARE DEPT', 'FORT MYERS', 'FL', '339071412', '2085R0001X\\n']\n",
      "Total Scanned Items : 313,763\n",
      "Execution Time : 37.67 Secs\n",
      "\n",
      "\n",
      "['', '', 'GORDON', '2234 COLONIAL ', 'MANAGED CARE DEPPT', 'FORT MYERS', 'FL', '339071412', '2085R0001X']\n",
      "['1508860545', 'KOLTIS', 'GORDON', '2234 COLONIAL BLVD', 'MANAGED CARE DEPT', 'FORT MYERS', 'FL', '339071412', '2085R0001X\\n']\n",
      "Total Scanned Items : 230,702\n",
      "Execution Time : 28.67 Secs\n",
      "\n",
      "\n",
      "['', 'KLTIS', 'GODN', '2234 COLONIAL BLVD', '', 'FT MYERS', 'FL', '33907', '2085R0001X']\n",
      "['1508860545', 'KOLTIS', 'GORDON', '2234 COLONIAL BLVD', 'MANAGED CARE DEPT', 'FORT MYERS', 'FL', '339071412', '2085R0001X\\n']\n",
      "Total Scanned Items : 3,807\n",
      "Execution Time : 0.91 Secs\n",
      "\n",
      "\n",
      "['', '', '', '2234 COLONIAL BLVD', '', 'FT MYERS', 'FL', '33907', '2085R0001X']\n",
      "Full scan require to find best match!\n",
      "Total Scanned Items : 0\n",
      "Execution Time : 0.0 Secs\n"
     ]
    }
   ],
   "source": [
    "for testItem in choices:\n",
    "    print(\"\\n\")\n",
    "    strtTime = time.time()\n",
    "    print(testItem.split(\";\"))\n",
    "    reslt = getSuggestion(testItem)\n",
    "    print(reslt[0])\n",
    "    print(\"Total Scanned Items : \" + str(format(reslt[1],',') ))\n",
    "    print(\"Execution Time : \" + str(round(time.time() - strtTime, 2)) + \" Secs\" )\n"
   ]
  }
 ],
 "metadata": {
  "kernelspec": {
   "display_name": "Python 2",
   "language": "python",
   "name": "python2"
  },
  "language_info": {
   "codemirror_mode": {
    "name": "ipython",
    "version": 2
   },
   "file_extension": ".py",
   "mimetype": "text/x-python",
   "name": "python",
   "nbconvert_exporter": "python",
   "pygments_lexer": "ipython2",
   "version": "2.7.11"
  }
 },
 "nbformat": 4,
 "nbformat_minor": 0
}
